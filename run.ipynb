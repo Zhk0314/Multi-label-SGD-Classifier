{
 "cells": [
  {
   "cell_type": "code",
   "execution_count": 1,
   "metadata": {},
   "outputs": [
    {
     "name": "stdout",
     "output_type": "stream",
     "text": [
      "Traing epoch: 0\n"
     ]
    },
    {
     "name": "stderr",
     "output_type": "stream",
     "text": [
      "C:\\Users\\10244\\Desktop\\class_Iris\\SGDClassifier\\sgd.py:39: RuntimeWarning: divide by zero encountered in log\n",
      "  loss = -1 / m * np.sum(y * np.log(A) + (1 - y) * np.log(1 - A))\n",
      "C:\\Users\\10244\\Desktop\\class_Iris\\SGDClassifier\\sgd.py:39: RuntimeWarning: invalid value encountered in multiply\n",
      "  loss = -1 / m * np.sum(y * np.log(A) + (1 - y) * np.log(1 - A))\n",
      "C:\\Users\\10244\\Desktop\\class_Iris\\SGDClassifier\\sgd.py:26: RuntimeWarning: overflow encountered in exp\n",
      "  return 1 / (1 + np.exp(-x))\n"
     ]
    },
    {
     "name": "stdout",
     "output_type": "stream",
     "text": [
      "Traing epoch: 1\n",
      "Traing epoch: 2\n",
      "Traing epoch: 3\n",
      "Traing epoch: 4\n",
      "Traing epoch: 5\n",
      "Traing epoch: 6\n",
      "Traing epoch: 7\n",
      "Traing epoch: 8\n",
      "Traing epoch: 9\n",
      "Traing epoch: 0\n",
      "Traing epoch: 1\n",
      "Traing epoch: 2\n",
      "Traing epoch: 3\n",
      "Traing epoch: 4\n",
      "Traing epoch: 5\n",
      "Traing epoch: 6\n",
      "Traing epoch: 7\n",
      "Traing epoch: 8\n",
      "Traing epoch: 9\n",
      "Traing epoch: 0\n",
      "Traing epoch: 1\n",
      "Traing epoch: 2\n",
      "Traing epoch: 3\n",
      "Traing epoch: 4\n",
      "Traing epoch: 5\n",
      "Traing epoch: 6\n",
      "Traing epoch: 7\n",
      "Traing epoch: 8\n",
      "Traing epoch: 9\n",
      "Traing epoch: 0\n",
      "Traing epoch: 1\n",
      "Traing epoch: 2\n",
      "Traing epoch: 3\n",
      "Traing epoch: 4\n",
      "Traing epoch: 5\n",
      "Traing epoch: 6\n",
      "Traing epoch: 7\n",
      "Traing epoch: 8\n",
      "Traing epoch: 9\n",
      "Traing epoch: 0\n",
      "Traing epoch: 1\n",
      "Traing epoch: 2\n",
      "Traing epoch: 3\n",
      "Traing epoch: 4\n",
      "Traing epoch: 5\n",
      "Traing epoch: 6\n",
      "Traing epoch: 7\n",
      "Traing epoch: 8\n",
      "Traing epoch: 9\n",
      "Traing epoch: 0\n",
      "Traing epoch: 1\n",
      "Traing epoch: 2\n",
      "Traing epoch: 3\n",
      "Traing epoch: 4\n",
      "Traing epoch: 5\n",
      "Traing epoch: 6\n",
      "Traing epoch: 7\n",
      "Traing epoch: 8\n",
      "Traing epoch: 9\n",
      "Traing epoch: 0\n",
      "Traing epoch: 1\n",
      "Traing epoch: 2\n",
      "Traing epoch: 3\n",
      "Traing epoch: 4\n",
      "Traing epoch: 5\n",
      "Traing epoch: 6\n",
      "Traing epoch: 7\n",
      "Traing epoch: 8\n",
      "Traing epoch: 9\n",
      "Traing epoch: 0\n",
      "Traing epoch: 1\n",
      "Traing epoch: 2\n",
      "Traing epoch: 3\n",
      "Traing epoch: 4\n",
      "Traing epoch: 5\n",
      "Traing epoch: 6\n",
      "Traing epoch: 7\n",
      "Traing epoch: 8\n",
      "Traing epoch: 9\n",
      "Traing epoch: 0\n",
      "Traing epoch: 1\n",
      "Traing epoch: 2\n",
      "Traing epoch: 3\n",
      "Traing epoch: 4\n",
      "Traing epoch: 5\n",
      "Traing epoch: 6\n",
      "Traing epoch: 7\n",
      "Traing epoch: 8\n",
      "Traing epoch: 9\n",
      "Traing epoch: 0\n",
      "Traing epoch: 1\n",
      "Traing epoch: 2\n",
      "Traing epoch: 3\n",
      "Traing epoch: 4\n",
      "Traing epoch: 5\n",
      "Traing epoch: 6\n",
      "Traing epoch: 7\n",
      "Traing epoch: 8\n",
      "Traing epoch: 9\n"
     ]
    }
   ],
   "source": [
    "import pandas as pd\n",
    "import sgd\n",
    "df1 = pd.read_csv(\"wine_train.csv\")\n",
    "df2 = pd.read_csv(\"wine_test(1).csv\")\n",
    "\n",
    "X = df1.iloc[:, :-1].values\n",
    "y = df1.iloc[:, -1].values\n",
    "X_dev = df2.iloc[:, :-1].values\n",
    "y_dev = df2.iloc[:, -1].values\n",
    "result=[]\n",
    "sgd_list = []\n",
    "for i in range(10):\n",
    "    sgd_list.append(sgd.SGD(SGD_op='SGD1'))\n",
    "    sgd_list[-1].fit(X, y, X_dev, y_dev)\n",
    "    result.append(sgd_list[-1].error)"
   ]
  },
  {
   "cell_type": "code",
   "execution_count": 2,
   "metadata": {},
   "outputs": [
    {
     "data": {
      "image/png": "[encoded data removed]",
      "text/plain": [
       "<Figure size 432x288 with 1 Axes>"
      ]
     },
     "metadata": {
      "needs_background": "light"
     },
     "output_type": "display_data"
    }
   ],
   "source": [
    "import matplotlib.pyplot as plt\n",
    "import numpy as np\n",
    "plt.plot(result[0])\n",
    "plt.savefig('SGD1_runfirst.png')\n",
    "plt.clf()\n",
    "mean_list = [ np.mean(re) for re in result]\n",
    "plt.plot(mean_list)\n",
    "plt.savefig('SGD1_mean.png')\n",
    "plt.clf()\n",
    "std_list = [np.std(re,ddof=1) for re in result]\n",
    "plt.plot(std_list)\n",
    "plt.savefig('SGD1_std.png')\n"
   ]
  },
  {
   "cell_type": "code",
   "execution_count": null,
   "metadata": {},
   "outputs": [],
   "source": []
  }
 ],
 "metadata": {
  "kernelspec": {
   "display_name": "Python 3",
   "language": "python",
   "name": "python3"
  },
  "language_info": {
   "codemirror_mode": {
    "name": "ipython",
    "version": 3
   },
   "file_extension": ".py",
   "mimetype": "text/x-python",
   "name": "python",
   "nbconvert_exporter": "python",
   "pygments_lexer": "ipython3",
   "version": "3.6.12"
  }
 },
 "nbformat": 4,
 "nbformat_minor": 4
}
